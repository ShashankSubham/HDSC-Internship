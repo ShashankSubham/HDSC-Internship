{
  "nbformat": 4,
  "nbformat_minor": 0,
  "metadata": {
    "colab": {
      "name": "HDSC--StageFourAssessment.ipynb",
      "provenance": []
    },
    "kernelspec": {
      "name": "python3",
      "display_name": "Python 3"
    },
    "accelerator": "GPU"
  },
  "cells": [
    {
      "cell_type": "code",
      "metadata": {
        "id": "vivfWVUei4Oq",
        "colab_type": "code",
        "colab": {
          "resources": {
            "http://localhost:8080/nbextensions/google.colab/files.js": {
              "data": "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",
              "ok": true,
              "headers": [
                [
                  "content-type",
                  "application/javascript"
                ]
              ],
              "status": 200,
              "status_text": ""
            }
          },
          "base_uri": "https://localhost:8080/",
          "height": 330
        },
        "outputId": "8c6b2c5f-4161-4e85-d3ad-68e3b084a285"
      },
      "source": [
        "!pip install kaggle\n",
        "!mkdir .kaggle\n",
        "from google.colab import files\n",
        "files.upload()"
      ],
      "execution_count": 1,
      "outputs": [
        {
          "output_type": "stream",
          "text": [
            "Requirement already satisfied: kaggle in /usr/local/lib/python3.6/dist-packages (1.5.8)\n",
            "Requirement already satisfied: tqdm in /usr/local/lib/python3.6/dist-packages (from kaggle) (4.41.1)\n",
            "Requirement already satisfied: python-dateutil in /usr/local/lib/python3.6/dist-packages (from kaggle) (2.8.1)\n",
            "Requirement already satisfied: six>=1.10 in /usr/local/lib/python3.6/dist-packages (from kaggle) (1.15.0)\n",
            "Requirement already satisfied: slugify in /usr/local/lib/python3.6/dist-packages (from kaggle) (0.0.1)\n",
            "Requirement already satisfied: urllib3<1.25,>=1.21.1 in /usr/local/lib/python3.6/dist-packages (from kaggle) (1.24.3)\n",
            "Requirement already satisfied: requests in /usr/local/lib/python3.6/dist-packages (from kaggle) (2.23.0)\n",
            "Requirement already satisfied: certifi in /usr/local/lib/python3.6/dist-packages (from kaggle) (2020.6.20)\n",
            "Requirement already satisfied: python-slugify in /usr/local/lib/python3.6/dist-packages (from kaggle) (4.0.1)\n",
            "Requirement already satisfied: idna<3,>=2.5 in /usr/local/lib/python3.6/dist-packages (from requests->kaggle) (2.10)\n",
            "Requirement already satisfied: chardet<4,>=3.0.2 in /usr/local/lib/python3.6/dist-packages (from requests->kaggle) (3.0.4)\n",
            "Requirement already satisfied: text-unidecode>=1.3 in /usr/local/lib/python3.6/dist-packages (from python-slugify->kaggle) (1.3)\n",
            "mkdir: cannot create directory ‘.kaggle’: File exists\n"
          ],
          "name": "stdout"
        },
        {
          "output_type": "display_data",
          "data": {
            "text/html": [
              "\n",
              "     <input type=\"file\" id=\"files-4746bdc7-b581-4345-a8f9-4eacac924dff\" name=\"files[]\" multiple disabled\n",
              "        style=\"border:none\" />\n",
              "     <output id=\"result-4746bdc7-b581-4345-a8f9-4eacac924dff\">\n",
              "      Upload widget is only available when the cell has been executed in the\n",
              "      current browser session. Please rerun this cell to enable.\n",
              "      </output>\n",
              "      <script src=\"/nbextensions/google.colab/files.js\"></script> "
            ],
            "text/plain": [
              "<IPython.core.display.HTML object>"
            ]
          },
          "metadata": {
            "tags": []
          }
        },
        {
          "output_type": "stream",
          "text": [
            "Saving kaggle.json to kaggle (2).json\n"
          ],
          "name": "stdout"
        },
        {
          "output_type": "execute_result",
          "data": {
            "text/plain": [
              "{'kaggle.json': b'{\"username\":\"shashanksubham\",\"key\":\"824208661ba774dea08a2b5ed365f97f\"}'}"
            ]
          },
          "metadata": {
            "tags": []
          },
          "execution_count": 1
        }
      ]
    },
    {
      "cell_type": "code",
      "metadata": {
        "id": "44y7ANzQjMVc",
        "colab_type": "code",
        "colab": {}
      },
      "source": [
        "import json\n",
        "token = {\"username\":\"shashanksubham\",\"key\":\"824208661ba774dea08a2b5ed365f97f\"}\n",
        "with open('/content/.kaggle/kaggle.json', 'w') as file:\n",
        "    json.dump(token, file)"
      ],
      "execution_count": 2,
      "outputs": []
    },
    {
      "cell_type": "code",
      "metadata": {
        "id": "UfgSRPSsjXkW",
        "colab_type": "code",
        "colab": {
          "base_uri": "https://localhost:8080/",
          "height": 445
        },
        "outputId": "ae3363d1-3e0f-4501-d6da-26696bfb7ee6"
      },
      "source": [
        "!mkdir -p ~/.kaggle\n",
        "!cp kaggle.json ~/.kaggle/\n",
        "!cp /content/.kaggle/kaggle.json ~/.kaggle/kaggle.json\n",
        "!kaggle config set -n path -v{/content}\n",
        "!chmod 600 /root/.kaggle/kaggle.json\n",
        "!kaggle datasets list"
      ],
      "execution_count": 3,
      "outputs": [
        {
          "output_type": "stream",
          "text": [
            "- path is now set to: {/content}\n",
            "Warning: Looks like you're using an outdated API Version, please consider updating (server 1.5.6 / client 1.5.4)\n",
            "ref                                                    title                                              size  lastUpdated          downloadCount  \n",
            "-----------------------------------------------------  ------------------------------------------------  -----  -------------------  -------------  \n",
            "anmolkumar/health-insurance-cross-sell-prediction      Health Insurance Cross Sell Prediction 🏠 🏥          6MB  2020-09-11 18:39:31           1052  \n",
            "shivan118/healthcare-analytics                         Healthcare Analytics                                2MB  2020-09-13 17:40:05            585  \n",
            "Cornell-University/arxiv                               arXiv Dataset                                     885MB  2020-09-14 16:54:47           2847  \n",
            "nipunarora8/age-gender-and-ethnicity-face-data-csv     AGE, GENDER AND ETHNICITY (FACE DATA) CSV          63MB  2020-09-02 13:46:38            337  \n",
            "datatattle/covid-19-nlp-text-classification            Coronavirus tweets NLP - Text Classification        4MB  2020-09-08 11:40:11            356  \n",
            "yoannboyere/co2-ghg-emissionsdata                      CO2_GHG_emissions-data                            147KB  2020-09-14 09:59:25            313  \n",
            "ramjidoolla/ipl-data-set                               IPL _Data_Set                                       1MB  2020-09-14 10:57:42            586  \n",
            "anikannal/solar-power-generation-data                  Solar Power Generation Data                         2MB  2020-08-18 15:52:03           3830  \n",
            "tunguz/us-elections-dataset                            US Elections Dataset                                8MB  2020-09-17 17:02:40           2209  \n",
            "imoore/60k-stack-overflow-questions-with-quality-rate  60k Stack Overflow Questions with Quality Rating   21MB  2020-09-11 18:28:28           1111  \n",
            "nehaprabhavalkar/av-healthcare-analytics-ii            AV : Healthcare Analytics II                        7MB  2020-08-29 03:40:10           1825  \n",
            "jmmvutu/summer-products-and-sales-in-ecommerce-wish    Sales of summer clothes in E-commerce Wish        376KB  2020-08-23 15:16:46           5982  \n",
            "ihelon/lego-minifigures-classification                 LEGO Minifigures                                   17MB  2020-09-15 20:07:06           1061  \n",
            "ruchi798/bookcrossing-dataset                          Book-Crossing: User review ratings                 25MB  2020-08-11 10:40:25           1040  \n",
            "google/tinyquickdraw                                   QuickDraw Sketches                                 11GB  2018-04-18 19:38:04           2302  \n",
            "agirlcoding/all-space-missions-from-1957               All Space Missions from 1957                      101KB  2020-08-13 16:18:58           3165  \n",
            "datasnaek/youtube-new                                  Trending YouTube Video Statistics                 201MB  2019-06-03 00:56:47         105031  \n",
            "zynicide/wine-reviews                                  Wine Reviews                                       51MB  2017-11-27 17:08:04         112631  \n",
            "residentmario/ramen-ratings                            Ramen Ratings                                      40KB  2018-01-11 16:04:39          13511  \n",
            "datasnaek/chess                                        Chess Game Dataset (Lichess)                        3MB  2017-09-04 03:09:09           8909  \n"
          ],
          "name": "stdout"
        }
      ]
    },
    {
      "cell_type": "code",
      "metadata": {
        "id": "1AFo1hnqjdiM",
        "colab_type": "code",
        "colab": {
          "base_uri": "https://localhost:8080/",
          "height": 54
        },
        "outputId": "257f4ae3-a349-4575-b2de-508c827f4bb7"
      },
      "source": [
        "!kaggle datasets download -d nikitarom/planets-dataset -p /content\n",
        "!unzip \\*.zip"
      ],
      "execution_count": 4,
      "outputs": [
        {
          "output_type": "stream",
          "text": [
            "planets-dataset.zip: Skipping, found more recently modified local copy (use --force to force download)\n"
          ],
          "name": "stdout"
        }
      ]
    },
    {
      "cell_type": "code",
      "metadata": {
        "id": "HcGfq48BjooD",
        "colab_type": "code",
        "colab": {
          "base_uri": "https://localhost:8080/",
          "height": 71
        },
        "outputId": "87b5c13e-36f9-486a-80dd-0590bfedccc6"
      },
      "source": [
        "import numpy as np # linear algebra\n",
        "import pandas as pd # data processing, CSV file I/O (e.g. pd.read_csv)\n",
        "import os\n",
        "import gc\n",
        "import matplotlib.pyplot as plt\n",
        "import seaborn as sns\n",
        "from tensorflow.keras.preprocessing.image import load_img, img_to_array\n",
        "from sklearn.metrics import fbeta_score\n",
        "from tqdm import tqdm\n",
        "import cv2\n",
        "from PIL import Image\n",
        "from tensorflow import keras\n",
        "from keras.models import Sequential\n",
        "from keras.layers import Dense, Dropout, Flatten\n",
        "from keras.layers import Conv2D, MaxPooling2D, BatchNormalization\n",
        "from keras.callbacks import EarlyStopping, ModelCheckpoint\n",
        "from keras import optimizers\n",
        "\n",
        "from sklearn.model_selection import KFold, train_test_split\n",
        "from sklearn.metrics import fbeta_score\n",
        "import time\n",
        "%matplotlib inline\n",
        "\n",
        "pal = sns.color_palette()\n",
        "\n",
        "import plotly.offline as py\n",
        "py.init_notebook_mode(connected=True)\n",
        "import plotly.graph_objs as go\n",
        "import plotly.tools as tls"
      ],
      "execution_count": 5,
      "outputs": [
        {
          "output_type": "stream",
          "text": [
            "/usr/local/lib/python3.6/dist-packages/statsmodels/tools/_testing.py:19: FutureWarning: pandas.util.testing is deprecated. Use the functions in the public API at pandas.testing instead.\n",
            "  import pandas.util.testing as tm\n"
          ],
          "name": "stderr"
        },
        {
          "output_type": "display_data",
          "data": {
            "text/html": [
              "        <script type=\"text/javascript\">\n",
              "        window.PlotlyConfig = {MathJaxConfig: 'local'};\n",
              "        if (window.MathJax) {MathJax.Hub.Config({SVG: {font: \"STIX-Web\"}});}\n",
              "        if (typeof require !== 'undefined') {\n",
              "        require.undef(\"plotly\");\n",
              "        requirejs.config({\n",
              "            paths: {\n",
              "                'plotly': ['https://cdn.plot.ly/plotly-latest.min']\n",
              "            }\n",
              "        });\n",
              "        require(['plotly'], function(Plotly) {\n",
              "            window._Plotly = Plotly;\n",
              "        });\n",
              "        }\n",
              "        </script>\n",
              "        "
            ]
          },
          "metadata": {
            "tags": []
          }
        }
      ]
    },
    {
      "cell_type": "code",
      "metadata": {
        "id": "Re_q8u2zj35E",
        "colab_type": "code",
        "colab": {}
      },
      "source": [
        "df_train = pd.read_csv('/content/planet/planet/train_classes.csv')\n",
        "df_test = pd.read_csv('/content/planet/planet/sample_submission.csv')"
      ],
      "execution_count": 63,
      "outputs": []
    },
    {
      "cell_type": "code",
      "metadata": {
        "id": "V98ppS2Aj6yP",
        "colab_type": "code",
        "colab": {
          "base_uri": "https://localhost:8080/",
          "height": 380
        },
        "outputId": "9959fe7f-faec-4ed7-ee64-4c83818c36c6"
      },
      "source": [
        "labels = df_train['tags'].apply(lambda x: x.split(' '))\n",
        "from collections import Counter, defaultdict\n",
        "counts = defaultdict(int) #dictionary containing each individual label\n",
        "for l in labels:\n",
        "    for l2 in l:\n",
        "        counts[l2] += 1\n",
        "        \n",
        "        \n",
        "tag_list=list(counts.keys()) \n",
        "y=list(counts.values())\n",
        "sns.barplot(x=tag_list, y=y);\n",
        "plt.xlabel('labels');\n",
        "plt.xticks(rotation = 90);\n",
        "plt.title('Tag count for train set');"
      ],
      "execution_count": 64,
      "outputs": [
        {
          "output_type": "display_data",
          "data": {
            "image/png": "[encoded data removed]",
            "text/plain": [
              "<Figure size 432x288 with 1 Axes>"
            ]
          },
          "metadata": {
            "tags": [],
            "needs_background": "light"
          }
        }
      ]
    },
    {
      "cell_type": "code",
      "metadata": {
        "id": "Hn86PS8EkHzo",
        "colab_type": "code",
        "colab": {
          "base_uri": "https://localhost:8080/",
          "height": 340
        },
        "outputId": "86a94f30-56a1-47dc-9c89-8cb8b1cd05f3"
      },
      "source": [
        "labels_test = df_test['tags'].apply(lambda x: x.split(' '))\n",
        "from collections import Counter, defaultdict\n",
        "counts_test = defaultdict(int)\n",
        "for l in labels_test:\n",
        "    for l2 in l:\n",
        "        counts_test[l2] += 1\n",
        "\n",
        "tag_list_test=list(counts_test.keys()) \n",
        "test_count=list(counts_test.values())\n",
        "sns.barplot(x=tag_list_test, y=test_count);\n",
        "plt.xlabel('labels');\n",
        "plt.xticks(rotation = 90);\n",
        "plt.title('Tag counts for test set');"
      ],
      "execution_count": 65,
      "outputs": [
        {
          "output_type": "display_data",
          "data": {
            "image/png": "[encoded data removed]",
            "text/plain": [
              "<Figure size 432x288 with 1 Axes>"
            ]
          },
          "metadata": {
            "tags": [],
            "needs_background": "light"
          }
        }
      ]
    },
    {
      "cell_type": "code",
      "metadata": {
        "id": "Ez7CnQV8kfPj",
        "colab_type": "code",
        "colab": {
          "base_uri": "https://localhost:8080/",
          "height": 306
        },
        "outputId": "6531eb0d-08c6-4a5a-f34a-a628911d9cd7"
      },
      "source": [
        "label_map = {i:j for j, i in enumerate(tag_list)}\n",
        "label_map"
      ],
      "execution_count": 66,
      "outputs": [
        {
          "output_type": "execute_result",
          "data": {
            "text/plain": [
              "{'agriculture': 2,\n",
              " 'artisinal_mine': 13,\n",
              " 'bare_ground': 12,\n",
              " 'blooming': 14,\n",
              " 'blow_down': 16,\n",
              " 'clear': 3,\n",
              " 'cloudy': 9,\n",
              " 'conventional_mine': 11,\n",
              " 'cultivation': 7,\n",
              " 'habitation': 5,\n",
              " 'haze': 0,\n",
              " 'partly_cloudy': 10,\n",
              " 'primary': 1,\n",
              " 'road': 6,\n",
              " 'selective_logging': 15,\n",
              " 'slash_burn': 8,\n",
              " 'water': 4}"
            ]
          },
          "metadata": {
            "tags": []
          },
          "execution_count": 66
        }
      ]
    },
    {
      "cell_type": "code",
      "metadata": {
        "id": "lsTfX086kijC",
        "colab_type": "code",
        "colab": {
          "base_uri": "https://localhost:8080/",
          "height": 34
        },
        "outputId": "b87641cd-4d1f-4d78-c6f2-b1bbee1c8b26"
      },
      "source": [
        "# One hot encode the training labels. Convert the images into pixels and resize them\n",
        "X_train, Y_train = [], []\n",
        "for img, label in tqdm(df_train.values, miniters = 1000):\n",
        "  target = np.zeros(17)\n",
        "  for tag in label.split(' '):\n",
        "    target[label_map[tag]]=1\n",
        "  X_train.append(cv2.resize(cv2.imread('/content/planet/planet/train-jpg/{}.jpg'.format(img)), (64,64)))\n",
        "  Y_train.append(target)"
      ],
      "execution_count": 67,
      "outputs": [
        {
          "output_type": "stream",
          "text": [
            "100%|██████████| 40479/40479 [01:04<00:00, 622.85it/s]\n"
          ],
          "name": "stderr"
        }
      ]
    },
    {
      "cell_type": "code",
      "metadata": {
        "id": "OMU5YbUXkoPc",
        "colab_type": "code",
        "colab": {
          "base_uri": "https://localhost:8080/",
          "height": 51
        },
        "outputId": "d0189d7c-f5b9-4978-9b26-4c1f4a472ba9"
      },
      "source": [
        "#converting tes images and resizing\n",
        "X_test=[]\n",
        "for img, label in tqdm(df_test[:40669].values, miniters = 1000):\n",
        "  X_test.append(cv2.resize(cv2.imread('/content/planet/planet/test-jpg/{}.jpg'.format(img)), (64,64)))\n",
        "for img, label in tqdm(df_test[40669:].values, miniters = 1000):\n",
        "  X_test.append(cv2.resize(cv2.imread('/content/test-jpg-additional/test-jpg-additional/{}.jpg'.format(img)), (64,64)))\n",
        "x_test = np.array(X_test, np.float16)/255"
      ],
      "execution_count": 68,
      "outputs": [
        {
          "output_type": "stream",
          "text": [
            "100%|██████████| 40669/40669 [01:05<00:00, 625.24it/s]\n",
            "100%|██████████| 20522/20522 [00:32<00:00, 632.23it/s]\n"
          ],
          "name": "stderr"
        }
      ]
    },
    {
      "cell_type": "code",
      "metadata": {
        "id": "yt9qQMUuk6Rx",
        "colab_type": "code",
        "colab": {
          "base_uri": "https://localhost:8080/",
          "height": 34
        },
        "outputId": "dca1f054-f73c-4a12-a711-fad34a4eb3c8"
      },
      "source": [
        "len(X_test), len(X_train), len(Y_train)"
      ],
      "execution_count": 69,
      "outputs": [
        {
          "output_type": "execute_result",
          "data": {
            "text/plain": [
              "(61191, 40479, 40479)"
            ]
          },
          "metadata": {
            "tags": []
          },
          "execution_count": 69
        }
      ]
    },
    {
      "cell_type": "code",
      "metadata": {
        "id": "RLKvmPV8lJBY",
        "colab_type": "code",
        "colab": {
          "base_uri": "https://localhost:8080/",
          "height": 34
        },
        "outputId": "4c9f3afc-5e83-4afe-c4ed-2a3ffc3c2f6d"
      },
      "source": [
        "import gc\n",
        "gc.collect()"
      ],
      "execution_count": 70,
      "outputs": [
        {
          "output_type": "execute_result",
          "data": {
            "text/plain": [
              "3338"
            ]
          },
          "metadata": {
            "tags": []
          },
          "execution_count": 70
        }
      ]
    },
    {
      "cell_type": "code",
      "metadata": {
        "id": "OL7SIixmlJ-q",
        "colab_type": "code",
        "colab": {
          "base_uri": "https://localhost:8080/",
          "height": 34
        },
        "outputId": "77c3db7b-534b-4909-85a0-799ea846eca1"
      },
      "source": [
        "#Change lists to numpy arrays and normalize\n",
        "x_train = np.array(X_train, np.float16)/255\n",
        "y_train = np.array(Y_train, np.uint8)\n",
        "\n",
        "x_train, x_val, y_train, y_val = train_test_split(x_train, y_train, test_size = 0.2, shuffle = True, random_state = 1)\n",
        "\n",
        "print(x_train.shape, y_train.shape, x_val.shape, y_val.shape)"
      ],
      "execution_count": 71,
      "outputs": [
        {
          "output_type": "stream",
          "text": [
            "(32383, 64, 64, 3) (32383, 17) (8096, 64, 64, 3) (8096, 17)\n"
          ],
          "name": "stdout"
        }
      ]
    },
    {
      "cell_type": "code",
      "metadata": {
        "id": "wadmAxOwlNbg",
        "colab_type": "code",
        "colab": {}
      },
      "source": [
        "#delete X_test, X_train, Y_train to free up space\n",
        "del(X_test, X_train, Y_train)"
      ],
      "execution_count": 72,
      "outputs": []
    },
    {
      "cell_type": "code",
      "metadata": {
        "id": "Ttq9x47ZlSr3",
        "colab_type": "code",
        "colab": {}
      },
      "source": [
        "yfull_test = []\n",
        "yfull_train = []\n",
        "X_train_, X_val_, Y_train_, Y_val_ = train_test_split(x_train, y_train, test_size = 0.2, random_state = 1)"
      ],
      "execution_count": 73,
      "outputs": []
    },
    {
      "cell_type": "code",
      "metadata": {
        "id": "WMUWodZ3lWMk",
        "colab_type": "code",
        "colab": {
          "base_uri": "https://localhost:8080/",
          "height": 34
        },
        "outputId": "2f1b7d06-9bfb-40ca-9fc2-3a702f58edf6"
      },
      "source": [
        "import gc\n",
        "gc.collect()"
      ],
      "execution_count": 74,
      "outputs": [
        {
          "output_type": "execute_result",
          "data": {
            "text/plain": [
              "0"
            ]
          },
          "metadata": {
            "tags": []
          },
          "execution_count": 74
        }
      ]
    },
    {
      "cell_type": "code",
      "metadata": {
        "id": "IjIpSYnWltER",
        "colab_type": "code",
        "colab": {}
      },
      "source": [
        "kfold_weights_path = os.path.join('', 'weights_kfold_' + '.h5')\n",
        "model = Sequential()\n",
        "model.add(BatchNormalization(input_shape=(64, 64,3)))\n",
        "model.add(Conv2D(32, kernel_size=(3, 3),padding='same', activation='relu'))\n",
        "model.add(Conv2D(32, (3, 3), activation='relu'))\n",
        "model.add(MaxPooling2D(pool_size=(2, 2)))\n",
        "model.add(Dropout(0.25))\n",
        "\n",
        "model.add(Conv2D(64, kernel_size=(3, 3),padding='same', activation='relu'))\n",
        "model.add(Conv2D(64, (3, 3), activation='relu'))\n",
        "model.add(MaxPooling2D(pool_size=(2, 2)))\n",
        "model.add(Dropout(0.25))\n",
        "        \n",
        "model.add(Conv2D(128, kernel_size=(3, 3),padding='same', activation='relu'))\n",
        "model.add(Conv2D(128, (3, 3), activation='relu'))\n",
        "model.add(MaxPooling2D(pool_size=(2, 2)))\n",
        "model.add(Dropout(0.25))\n",
        "        \n",
        "model.add(Conv2D(256, kernel_size=(3, 3),padding='same', activation='relu'))\n",
        "model.add(Conv2D(256, (3, 3), activation='relu'))\n",
        "model.add(MaxPooling2D(pool_size=(2, 2)))\n",
        "model.add(Dropout(0.25))\n",
        "        \n",
        "model.add(Flatten())\n",
        "model.add(Dense(512, activation='relu'))\n",
        "model.add(BatchNormalization())\n",
        "model.add(Dropout(0.5))\n",
        "model.add(Dense(17, activation='sigmoid'))"
      ],
      "execution_count": 75,
      "outputs": []
    },
    {
      "cell_type": "code",
      "metadata": {
        "id": "nKGas4ujl-I-",
        "colab_type": "code",
        "colab": {
          "base_uri": "https://localhost:8080/",
          "height": 34
        },
        "outputId": "9a72f862-11c0-4645-aa47-00ab61c96ff8"
      },
      "source": [
        "import gc\n",
        "gc.collect()"
      ],
      "execution_count": 76,
      "outputs": [
        {
          "output_type": "execute_result",
          "data": {
            "text/plain": [
              "0"
            ]
          },
          "metadata": {
            "tags": []
          },
          "execution_count": 76
        }
      ]
    },
    {
      "cell_type": "code",
      "metadata": {
        "id": "pZ8-qYICmBw7",
        "colab_type": "code",
        "colab": {
          "base_uri": "https://localhost:8080/",
          "height": 1000
        },
        "outputId": "e1e25738-c3c1-49ee-b447-b78b120769cb"
      },
      "source": [
        "epochs = 50\n",
        "learn_rate = 0.0001\n",
        "opt  = optimizers.Adam(lr=learn_rate)\n",
        "model.compile(loss='binary_crossentropy',optimizer=opt,metrics=['accuracy'])\n",
        "callbacks = [EarlyStopping(monitor='val_loss', patience=3, verbose=0)]\n",
        "\n",
        "\n",
        "model.fit(x = X_train_, y= Y_train_, validation_data=(X_val_, Y_val_),batch_size=128,verbose=2, epochs=epochs,callbacks=callbacks,shuffle=True)\n",
        "\n",
        "p_val = model.predict(X_val_, batch_size = 32, verbose=2)\n",
        "print(fbeta_score(Y_val_, np.array(p_val) > 0.2, beta=2, average='samples')) #Check the model performance on the validation set\n",
        "\n",
        "p_train = model.predict(x_train, batch_size =128, verbose=2) #save the training predictions\n",
        "yfull_train.append(p_train)\n",
        "        \n",
        "p_test = model.predict(x_test, batch_size = 128, verbose=2) #save the test predictions\n",
        "yfull_test.append(p_test)"
      ],
      "execution_count": 77,
      "outputs": [
        {
          "output_type": "stream",
          "text": [
            "Epoch 1/50\n",
            "203/203 - 6s - loss: 0.6421 - accuracy: 0.1064 - val_loss: 0.5959 - val_accuracy: 0.8644\n",
            "Epoch 2/50\n",
            "203/203 - 6s - loss: 0.4694 - accuracy: 0.1789 - val_loss: 0.3867 - val_accuracy: 0.8598\n",
            "Epoch 3/50\n",
            "203/203 - 6s - loss: 0.2890 - accuracy: 0.2821 - val_loss: 0.2468 - val_accuracy: 0.6569\n",
            "Epoch 4/50\n",
            "203/203 - 6s - loss: 0.2083 - accuracy: 0.3732 - val_loss: 0.1896 - val_accuracy: 0.2810\n",
            "Epoch 5/50\n",
            "203/203 - 6s - loss: 0.1781 - accuracy: 0.4254 - val_loss: 0.1719 - val_accuracy: 0.2798\n",
            "Epoch 6/50\n",
            "203/203 - 6s - loss: 0.1637 - accuracy: 0.4882 - val_loss: 0.1618 - val_accuracy: 0.2686\n",
            "Epoch 7/50\n",
            "203/203 - 6s - loss: 0.1545 - accuracy: 0.5278 - val_loss: 0.1583 - val_accuracy: 0.3665\n",
            "Epoch 8/50\n",
            "203/203 - 6s - loss: 0.1496 - accuracy: 0.5712 - val_loss: 0.1517 - val_accuracy: 0.3986\n",
            "Epoch 9/50\n",
            "203/203 - 6s - loss: 0.1446 - accuracy: 0.5801 - val_loss: 0.1408 - val_accuracy: 0.7088\n",
            "Epoch 10/50\n",
            "203/203 - 6s - loss: 0.1417 - accuracy: 0.6281 - val_loss: 0.1421 - val_accuracy: 0.4758\n",
            "Epoch 11/50\n",
            "203/203 - 6s - loss: 0.1397 - accuracy: 0.6348 - val_loss: 0.1405 - val_accuracy: 0.7616\n",
            "Epoch 12/50\n",
            "203/203 - 6s - loss: 0.1369 - accuracy: 0.6538 - val_loss: 0.1355 - val_accuracy: 0.7630\n",
            "Epoch 13/50\n",
            "203/203 - 6s - loss: 0.1351 - accuracy: 0.6602 - val_loss: 0.1339 - val_accuracy: 0.7635\n",
            "Epoch 14/50\n",
            "203/203 - 6s - loss: 0.1327 - accuracy: 0.6573 - val_loss: 0.1346 - val_accuracy: 0.7579\n",
            "Epoch 15/50\n",
            "203/203 - 6s - loss: 0.1305 - accuracy: 0.6754 - val_loss: 0.1290 - val_accuracy: 0.7621\n",
            "Epoch 16/50\n",
            "203/203 - 6s - loss: 0.1285 - accuracy: 0.6853 - val_loss: 0.1364 - val_accuracy: 0.7320\n",
            "Epoch 17/50\n",
            "203/203 - 6s - loss: 0.1277 - accuracy: 0.6947 - val_loss: 0.1278 - val_accuracy: 0.7503\n",
            "Epoch 18/50\n",
            "203/203 - 6s - loss: 0.1261 - accuracy: 0.6934 - val_loss: 0.1256 - val_accuracy: 0.7629\n",
            "Epoch 19/50\n",
            "203/203 - 6s - loss: 0.1249 - accuracy: 0.7034 - val_loss: 0.1268 - val_accuracy: 0.7361\n",
            "Epoch 20/50\n",
            "203/203 - 6s - loss: 0.1234 - accuracy: 0.6977 - val_loss: 0.1281 - val_accuracy: 0.7771\n",
            "Epoch 21/50\n",
            "203/203 - 6s - loss: 0.1215 - accuracy: 0.6917 - val_loss: 0.1243 - val_accuracy: 0.7630\n",
            "Epoch 22/50\n",
            "203/203 - 6s - loss: 0.1210 - accuracy: 0.7053 - val_loss: 0.1237 - val_accuracy: 0.7857\n",
            "Epoch 23/50\n",
            "203/203 - 6s - loss: 0.1200 - accuracy: 0.7129 - val_loss: 0.1211 - val_accuracy: 0.7500\n",
            "Epoch 24/50\n",
            "203/203 - 6s - loss: 0.1192 - accuracy: 0.7064 - val_loss: 0.1266 - val_accuracy: 0.7398\n",
            "Epoch 25/50\n",
            "203/203 - 6s - loss: 0.1179 - accuracy: 0.7090 - val_loss: 0.1230 - val_accuracy: 0.7794\n",
            "Epoch 26/50\n",
            "203/203 - 6s - loss: 0.1169 - accuracy: 0.7105 - val_loss: 0.1207 - val_accuracy: 0.7845\n",
            "Epoch 27/50\n",
            "203/203 - 6s - loss: 0.1152 - accuracy: 0.7145 - val_loss: 0.1187 - val_accuracy: 0.7690\n",
            "Epoch 28/50\n",
            "203/203 - 6s - loss: 0.1146 - accuracy: 0.6963 - val_loss: 0.1196 - val_accuracy: 0.7466\n",
            "Epoch 29/50\n",
            "203/203 - 6s - loss: 0.1136 - accuracy: 0.7076 - val_loss: 0.1189 - val_accuracy: 0.8069\n",
            "Epoch 30/50\n",
            "203/203 - 6s - loss: 0.1120 - accuracy: 0.6968 - val_loss: 0.1219 - val_accuracy: 0.7238\n",
            "203/203 - 1s\n",
            "0.8944409905442335\n",
            "253/253 - 2s\n",
            "479/479 - 4s\n"
          ],
          "name": "stdout"
        }
      ]
    },
    {
      "cell_type": "code",
      "metadata": {
        "id": "kvgnmTtkn7bK",
        "colab_type": "code",
        "colab": {
          "base_uri": "https://localhost:8080/",
          "height": 34
        },
        "outputId": "32cda24a-416e-4f5a-97ae-956264d7812b"
      },
      "source": [
        "import gc\n",
        "gc.collect()"
      ],
      "execution_count": 78,
      "outputs": [
        {
          "output_type": "execute_result",
          "data": {
            "text/plain": [
              "18570"
            ]
          },
          "metadata": {
            "tags": []
          },
          "execution_count": 78
        }
      ]
    },
    {
      "cell_type": "code",
      "metadata": {
        "id": "oRe9JRwLmFWN",
        "colab_type": "code",
        "colab": {
          "base_uri": "https://localhost:8080/",
          "height": 238
        },
        "outputId": "c16bfb92-2cb9-413b-8ac9-5c1beba199ae"
      },
      "source": [
        "predictions = model.predict(x_test, batch_size = 32)\n",
        "predictions"
      ],
      "execution_count": 79,
      "outputs": [
        {
          "output_type": "execute_result",
          "data": {
            "text/plain": [
              "array([[1.5434076e-03, 9.9898845e-01, 8.9651635e-03, ..., 5.9693335e-03,\n",
              "        8.6934381e-04, 6.6715165e-04],\n",
              "       [1.3158658e-03, 9.9891686e-01, 2.0769931e-02, ..., 7.7160217e-02,\n",
              "        1.1772787e-02, 7.5181378e-03],\n",
              "       [6.7685451e-04, 9.9897230e-01, 5.5519298e-02, ..., 9.8957925e-04,\n",
              "        4.5309350e-04, 8.8433747e-04],\n",
              "       ...,\n",
              "       [2.4326420e-03, 9.9797219e-01, 4.7106761e-02, ..., 2.2977032e-02,\n",
              "        9.5367664e-03, 2.4474615e-03],\n",
              "       [6.7550555e-02, 7.6319121e-02, 4.6057911e-03, ..., 3.3227811e-04,\n",
              "        1.8675868e-04, 1.6052087e-04],\n",
              "       [1.2886929e-02, 8.2406515e-01, 1.1825252e-01, ..., 2.8315946e-04,\n",
              "        2.8465346e-03, 2.7404886e-04]], dtype=float32)"
            ]
          },
          "metadata": {
            "tags": []
          },
          "execution_count": 79
        }
      ]
    },
    {
      "cell_type": "code",
      "metadata": {
        "id": "BpxPLgHUm8eJ",
        "colab_type": "code",
        "colab": {
          "base_uri": "https://localhost:8080/",
          "height": 439
        },
        "outputId": "b4405c78-f297-4861-9fbf-ae4f55fcd223"
      },
      "source": [
        "pred = pd.DataFrame(predictions, columns =  tag_list)\n",
        "pred"
      ],
      "execution_count": 80,
      "outputs": [
        {
          "output_type": "execute_result",
          "data": {
            "text/html": [
              "<div>\n",
              "<style scoped>\n",
              "    .dataframe tbody tr th:only-of-type {\n",
              "        vertical-align: middle;\n",
              "    }\n",
              "\n",
              "    .dataframe tbody tr th {\n",
              "        vertical-align: top;\n",
              "    }\n",
              "\n",
              "    .dataframe thead th {\n",
              "        text-align: right;\n",
              "    }\n",
              "</style>\n",
              "<table border=\"1\" class=\"dataframe\">\n",
              "  <thead>\n",
              "    <tr style=\"text-align: right;\">\n",
              "      <th></th>\n",
              "      <th>haze</th>\n",
              "      <th>primary</th>\n",
              "      <th>agriculture</th>\n",
              "      <th>clear</th>\n",
              "      <th>water</th>\n",
              "      <th>habitation</th>\n",
              "      <th>road</th>\n",
              "      <th>cultivation</th>\n",
              "      <th>slash_burn</th>\n",
              "      <th>cloudy</th>\n",
              "      <th>partly_cloudy</th>\n",
              "      <th>conventional_mine</th>\n",
              "      <th>bare_ground</th>\n",
              "      <th>artisinal_mine</th>\n",
              "      <th>blooming</th>\n",
              "      <th>selective_logging</th>\n",
              "      <th>blow_down</th>\n",
              "    </tr>\n",
              "  </thead>\n",
              "  <tbody>\n",
              "    <tr>\n",
              "      <th>0</th>\n",
              "      <td>0.001543</td>\n",
              "      <td>0.998988</td>\n",
              "      <td>0.008965</td>\n",
              "      <td>0.998079</td>\n",
              "      <td>0.018216</td>\n",
              "      <td>0.001759</td>\n",
              "      <td>0.005049</td>\n",
              "      <td>0.004545</td>\n",
              "      <td>0.000318</td>\n",
              "      <td>0.000537</td>\n",
              "      <td>0.000697</td>\n",
              "      <td>0.000148</td>\n",
              "      <td>0.000995</td>\n",
              "      <td>0.000238</td>\n",
              "      <td>0.005969</td>\n",
              "      <td>0.000869</td>\n",
              "      <td>0.000667</td>\n",
              "    </tr>\n",
              "    <tr>\n",
              "      <th>1</th>\n",
              "      <td>0.001316</td>\n",
              "      <td>0.998917</td>\n",
              "      <td>0.020770</td>\n",
              "      <td>0.993660</td>\n",
              "      <td>0.014322</td>\n",
              "      <td>0.003864</td>\n",
              "      <td>0.006057</td>\n",
              "      <td>0.033372</td>\n",
              "      <td>0.003152</td>\n",
              "      <td>0.001359</td>\n",
              "      <td>0.004782</td>\n",
              "      <td>0.000623</td>\n",
              "      <td>0.003565</td>\n",
              "      <td>0.000539</td>\n",
              "      <td>0.077160</td>\n",
              "      <td>0.011773</td>\n",
              "      <td>0.007518</td>\n",
              "    </tr>\n",
              "    <tr>\n",
              "      <th>2</th>\n",
              "      <td>0.000677</td>\n",
              "      <td>0.998972</td>\n",
              "      <td>0.055519</td>\n",
              "      <td>0.001596</td>\n",
              "      <td>0.118575</td>\n",
              "      <td>0.002385</td>\n",
              "      <td>0.014373</td>\n",
              "      <td>0.009948</td>\n",
              "      <td>0.000834</td>\n",
              "      <td>0.000924</td>\n",
              "      <td>0.999405</td>\n",
              "      <td>0.000508</td>\n",
              "      <td>0.000977</td>\n",
              "      <td>0.000395</td>\n",
              "      <td>0.000990</td>\n",
              "      <td>0.000453</td>\n",
              "      <td>0.000884</td>\n",
              "    </tr>\n",
              "    <tr>\n",
              "      <th>3</th>\n",
              "      <td>0.005066</td>\n",
              "      <td>0.998357</td>\n",
              "      <td>0.108101</td>\n",
              "      <td>0.890884</td>\n",
              "      <td>0.024671</td>\n",
              "      <td>0.005411</td>\n",
              "      <td>0.011587</td>\n",
              "      <td>0.087653</td>\n",
              "      <td>0.002626</td>\n",
              "      <td>0.001516</td>\n",
              "      <td>0.091033</td>\n",
              "      <td>0.000635</td>\n",
              "      <td>0.003796</td>\n",
              "      <td>0.000570</td>\n",
              "      <td>0.010848</td>\n",
              "      <td>0.003505</td>\n",
              "      <td>0.002810</td>\n",
              "    </tr>\n",
              "    <tr>\n",
              "      <th>4</th>\n",
              "      <td>0.005879</td>\n",
              "      <td>0.911283</td>\n",
              "      <td>0.025809</td>\n",
              "      <td>0.002004</td>\n",
              "      <td>0.108221</td>\n",
              "      <td>0.004252</td>\n",
              "      <td>0.018315</td>\n",
              "      <td>0.008533</td>\n",
              "      <td>0.000353</td>\n",
              "      <td>0.086844</td>\n",
              "      <td>0.926092</td>\n",
              "      <td>0.000483</td>\n",
              "      <td>0.001044</td>\n",
              "      <td>0.000437</td>\n",
              "      <td>0.000456</td>\n",
              "      <td>0.000451</td>\n",
              "      <td>0.000475</td>\n",
              "    </tr>\n",
              "    <tr>\n",
              "      <th>...</th>\n",
              "      <td>...</td>\n",
              "      <td>...</td>\n",
              "      <td>...</td>\n",
              "      <td>...</td>\n",
              "      <td>...</td>\n",
              "      <td>...</td>\n",
              "      <td>...</td>\n",
              "      <td>...</td>\n",
              "      <td>...</td>\n",
              "      <td>...</td>\n",
              "      <td>...</td>\n",
              "      <td>...</td>\n",
              "      <td>...</td>\n",
              "      <td>...</td>\n",
              "      <td>...</td>\n",
              "      <td>...</td>\n",
              "      <td>...</td>\n",
              "    </tr>\n",
              "    <tr>\n",
              "      <th>61186</th>\n",
              "      <td>0.006558</td>\n",
              "      <td>0.177413</td>\n",
              "      <td>0.037162</td>\n",
              "      <td>0.001717</td>\n",
              "      <td>0.034085</td>\n",
              "      <td>0.005489</td>\n",
              "      <td>0.017468</td>\n",
              "      <td>0.009498</td>\n",
              "      <td>0.000838</td>\n",
              "      <td>0.884664</td>\n",
              "      <td>0.262994</td>\n",
              "      <td>0.001022</td>\n",
              "      <td>0.001546</td>\n",
              "      <td>0.001027</td>\n",
              "      <td>0.000838</td>\n",
              "      <td>0.000703</td>\n",
              "      <td>0.000492</td>\n",
              "    </tr>\n",
              "    <tr>\n",
              "      <th>61187</th>\n",
              "      <td>0.014520</td>\n",
              "      <td>0.995488</td>\n",
              "      <td>0.188330</td>\n",
              "      <td>0.979229</td>\n",
              "      <td>0.896025</td>\n",
              "      <td>0.035752</td>\n",
              "      <td>0.053460</td>\n",
              "      <td>0.098781</td>\n",
              "      <td>0.002149</td>\n",
              "      <td>0.001276</td>\n",
              "      <td>0.004164</td>\n",
              "      <td>0.000351</td>\n",
              "      <td>0.021337</td>\n",
              "      <td>0.002542</td>\n",
              "      <td>0.001245</td>\n",
              "      <td>0.004115</td>\n",
              "      <td>0.000638</td>\n",
              "    </tr>\n",
              "    <tr>\n",
              "      <th>61188</th>\n",
              "      <td>0.002433</td>\n",
              "      <td>0.997972</td>\n",
              "      <td>0.047107</td>\n",
              "      <td>0.997244</td>\n",
              "      <td>0.114600</td>\n",
              "      <td>0.006856</td>\n",
              "      <td>0.041684</td>\n",
              "      <td>0.030752</td>\n",
              "      <td>0.001557</td>\n",
              "      <td>0.001043</td>\n",
              "      <td>0.001853</td>\n",
              "      <td>0.000745</td>\n",
              "      <td>0.004102</td>\n",
              "      <td>0.001304</td>\n",
              "      <td>0.022977</td>\n",
              "      <td>0.009537</td>\n",
              "      <td>0.002447</td>\n",
              "    </tr>\n",
              "    <tr>\n",
              "      <th>61189</th>\n",
              "      <td>0.067551</td>\n",
              "      <td>0.076319</td>\n",
              "      <td>0.004606</td>\n",
              "      <td>0.007752</td>\n",
              "      <td>0.020495</td>\n",
              "      <td>0.001307</td>\n",
              "      <td>0.004379</td>\n",
              "      <td>0.001125</td>\n",
              "      <td>0.000162</td>\n",
              "      <td>0.931764</td>\n",
              "      <td>0.001966</td>\n",
              "      <td>0.000149</td>\n",
              "      <td>0.000325</td>\n",
              "      <td>0.000170</td>\n",
              "      <td>0.000332</td>\n",
              "      <td>0.000187</td>\n",
              "      <td>0.000161</td>\n",
              "    </tr>\n",
              "    <tr>\n",
              "      <th>61190</th>\n",
              "      <td>0.012887</td>\n",
              "      <td>0.824065</td>\n",
              "      <td>0.118253</td>\n",
              "      <td>0.858086</td>\n",
              "      <td>0.156329</td>\n",
              "      <td>0.945636</td>\n",
              "      <td>0.953375</td>\n",
              "      <td>0.008962</td>\n",
              "      <td>0.000469</td>\n",
              "      <td>0.003056</td>\n",
              "      <td>0.064351</td>\n",
              "      <td>0.002829</td>\n",
              "      <td>0.032519</td>\n",
              "      <td>0.003050</td>\n",
              "      <td>0.000283</td>\n",
              "      <td>0.002847</td>\n",
              "      <td>0.000274</td>\n",
              "    </tr>\n",
              "  </tbody>\n",
              "</table>\n",
              "<p>61191 rows × 17 columns</p>\n",
              "</div>"
            ],
            "text/plain": [
              "           haze   primary  agriculture  ...  blooming  selective_logging  blow_down\n",
              "0      0.001543  0.998988     0.008965  ...  0.005969           0.000869   0.000667\n",
              "1      0.001316  0.998917     0.020770  ...  0.077160           0.011773   0.007518\n",
              "2      0.000677  0.998972     0.055519  ...  0.000990           0.000453   0.000884\n",
              "3      0.005066  0.998357     0.108101  ...  0.010848           0.003505   0.002810\n",
              "4      0.005879  0.911283     0.025809  ...  0.000456           0.000451   0.000475\n",
              "...         ...       ...          ...  ...       ...                ...        ...\n",
              "61186  0.006558  0.177413     0.037162  ...  0.000838           0.000703   0.000492\n",
              "61187  0.014520  0.995488     0.188330  ...  0.001245           0.004115   0.000638\n",
              "61188  0.002433  0.997972     0.047107  ...  0.022977           0.009537   0.002447\n",
              "61189  0.067551  0.076319     0.004606  ...  0.000332           0.000187   0.000161\n",
              "61190  0.012887  0.824065     0.118253  ...  0.000283           0.002847   0.000274\n",
              "\n",
              "[61191 rows x 17 columns]"
            ]
          },
          "metadata": {
            "tags": []
          },
          "execution_count": 80
        }
      ]
    },
    {
      "cell_type": "code",
      "metadata": {
        "id": "WlHvYOkYnyD7",
        "colab_type": "code",
        "colab": {
          "base_uri": "https://localhost:8080/",
          "height": 34
        },
        "outputId": "3778b008-d2bd-4928-ae95-3d143b1294e7"
      },
      "source": [
        "preds = []\n",
        "for i in tqdm(range(pred.shape[0]), miniters=1000):\n",
        "    a = pred.iloc[[i]]\n",
        "    a = a.apply(lambda x: x > 0.2, axis=1)\n",
        "    a = a.transpose()\n",
        "    a = a.loc[a[i] == True]\n",
        "    ' '.join(list(a.index))\n",
        "    preds.append(' '.join(list(a.index)))"
      ],
      "execution_count": 81,
      "outputs": [
        {
          "output_type": "stream",
          "text": [
            "100%|██████████| 61191/61191 [03:56<00:00, 258.57it/s]\n"
          ],
          "name": "stderr"
        }
      ]
    },
    {
      "cell_type": "code",
      "metadata": {
        "id": "nmB4CMFinzYI",
        "colab_type": "code",
        "colab": {}
      },
      "source": [
        "df_test['tags'] = preds \n",
        "df_test.to_csv('Submission2.csv', index = False)"
      ],
      "execution_count": null,
      "outputs": []
    },
    {
      "cell_type": "code",
      "metadata": {
        "id": "CUB3k9mTqztk",
        "colab_type": "code",
        "colab": {}
      },
      "source": [
        ""
      ],
      "execution_count": null,
      "outputs": []
    }
  ]
}